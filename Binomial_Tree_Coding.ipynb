{
  "nbformat": 4,
  "nbformat_minor": 0,
  "metadata": {
    "colab": {
      "provenance": []
    },
    "kernelspec": {
      "name": "python3",
      "display_name": "Python 3"
    },
    "language_info": {
      "name": "python"
    }
  },
  "cells": [
    {
      "cell_type": "code",
      "execution_count": null,
      "metadata": {
        "colab": {
          "base_uri": "https://localhost:8080/"
        },
        "id": "KdcUDyen4-x4",
        "outputId": "4d6a49ee-42c6-4fe8-9463-5d3d4645e8aa"
      },
      "outputs": [
        {
          "output_type": "stream",
          "name": "stdout",
          "text": [
            "Call option value: 3.755349885569962\n",
            "Put option value: 4.981170744929176\n",
            "Call-Put Value: -1.2258208593592137\n"
          ]
        }
      ],
      "source": [
        "import math\n",
        "\n",
        "def crr_rec(s, k, t, v, r, pc, n):\n",
        "    if n == 0:\n",
        "        if pc == 1:  # Call option\n",
        "            return max(0, s - k)\n",
        "        elif pc == 0:  # Put option\n",
        "            return max(0, k - s)\n",
        "    else:\n",
        "        h = t / n\n",
        "        u = math.exp(v * math.sqrt(h))\n",
        "        d = math.exp(-v * math.sqrt(h))\n",
        "        R = math.exp(r * h)\n",
        "        q = (R - d) / (u - d)\n",
        "        # Recursive calls for up and down moves\n",
        "        optval = (q * crr_rec(s * u, k, t - h, v, r, pc, n - 1) +\n",
        "                  (1 - q) * crr_rec(s * d, k, t - h, v, r, pc, n - 1)) / R\n",
        "        return optval\n",
        "\n",
        "# Example usage (as in the image):\n",
        "callopt = crr_rec(50, 52, 0.5, 0.3, 0.03, 1, 10)  # Price a call\n",
        "putopt = crr_rec(50, 52, 0.5, 0.3, 0.03, 0, 10)   # Price a put\n",
        "\n",
        "print(\"Call option value:\", callopt)\n",
        "print(\"Put option value:\", putopt)\n",
        "print(\"Call-Put Value:\", callopt-putopt)\n"
      ]
    },
    {
      "cell_type": "code",
      "source": [
        "import numpy as np\n",
        "\n",
        "def crr_div(s, k, t, v, rf, div, pc, ae, n):\n",
        "    \"\"\"\n",
        "    CRR Binomial Option Pricing Model with Proportional Dividends\n",
        "\n",
        "    Parameters:\n",
        "    s: Spot price\n",
        "    k: Strike price\n",
        "    t: Time to maturity (years)\n",
        "    v: Volatility (annual)\n",
        "    rf: Risk-free rate (annual)\n",
        "    div: Dividend yield (annual)\n",
        "    pc: Put/Call flag (1=call, 0=put)\n",
        "    ae: American/European flag (1=American, 0=European)\n",
        "    n: Number of steps\n",
        "\n",
        "    Returns:\n",
        "    Option price\n",
        "    \"\"\"\n",
        "    # Pre-calculate model parameters\n",
        "    h = t / n\n",
        "    u = np.exp(v * np.sqrt(h))\n",
        "    d = 1 / u\n",
        "    r = np.exp(rf * h)\n",
        "    y = np.exp(div * h) - 1\n",
        "    q = (np.exp((rf - div) * h) - d) / (u - d)\n",
        "\n",
        "    # Initialize trees (using 1-based indexing simulation)\n",
        "    stktree = np.zeros((n + 2, n + 2))\n",
        "    divtree = np.zeros((n + 2, n + 2))\n",
        "    optval = np.zeros((n + 2, n + 2))\n",
        "    pvdiv = np.zeros((n + 2, n + 2))\n",
        "\n",
        "    # Initialize first node\n",
        "    stktree[1, 1] = s\n",
        "    divtree[1, 1] = 0\n",
        "\n",
        "    # Build stock price and dividend trees\n",
        "    for t_step in range(2, n + 2):\n",
        "        # Top node of current time step\n",
        "        stktree[1, t_step] = stktree[1, t_step - 1] * u\n",
        "        divtree[1, t_step] = stktree[1, t_step] * y\n",
        "\n",
        "        # Subsequent nodes in current time step\n",
        "        for j in range(2, t_step + 1):\n",
        "            stktree[j, t_step] = stktree[j - 1, t_step - 1] * d\n",
        "            divtree[j, t_step] = stktree[j, t_step] * y\n",
        "\n",
        "    # Terminal payoff calculation\n",
        "    for j in range(1, n + 2):\n",
        "        if pc == 1:  # Call option\n",
        "            optval[j, n + 1] = max(0, stktree[j, n + 1] - k)\n",
        "        else:  # Put option\n",
        "            optval[j, n + 1] = max(0, k - stktree[j, n + 1])\n",
        "        pvdiv[j, n + 1] = divtree[j, n + 1]\n",
        "\n",
        "    # Backward recursion through the tree\n",
        "    for t_step in range(n, 0, -1):\n",
        "        for j in range(1, t_step + 1):\n",
        "            # Discounted expected value of dividends and option\n",
        "            pvdiv[j, t_step] = (q * pvdiv[j, t_step + 1] + (1 - q) * pvdiv[j + 1, t_step + 1]) / r\n",
        "            optval[j, t_step] = (q * optval[j, t_step + 1] + (1 - q) * optval[j + 1, t_step + 1]) / r\n",
        "\n",
        "            # Add current dividend to PV\n",
        "            pvdiv[j, t_step] += divtree[j, t_step]\n",
        "\n",
        "            # American exercise check\n",
        "            if ae == 1:\n",
        "                if pc == 1:  # Call\n",
        "                    exercise_value = stktree[j, t_step] + pvdiv[j, t_step] - k\n",
        "                else:  # Put\n",
        "                    exercise_value = k - stktree[j, t_step] + pvdiv[j, t_step]\n",
        "                optval[j, t_step] = max(optval[j, t_step], exercise_value)\n",
        "\n",
        "    return optval[1, 1]\n",
        "\n",
        "# Test with parameters from Octave example\n",
        "if __name__ == \"__main__\":\n",
        "    call_price = crr_div(50, 52, 0.5, 0.3, 0.03, 0.03, 1, 1, 10)\n",
        "    put_price = crr_div(50, 52, 0.5, 0.3, 0.03, 0.03, 0, 0, 10)\n",
        "\n",
        "    print(f\"American Call Price: {call_price:.4f}\")  # Expected: 3.7553\n",
        "    print(f\"European Put Price: {put_price:.4f}\")    # Expected: 4.9812\n"
      ],
      "metadata": {
        "colab": {
          "base_uri": "https://localhost:8080/"
        },
        "id": "mJ5GQ3sT5FNm",
        "outputId": "c7941729-3f95-48ca-b939-6f7e2564c823"
      },
      "execution_count": null,
      "outputs": [
        {
          "output_type": "stream",
          "name": "stdout",
          "text": [
            "American Call Price: 3.4760\n",
            "European Put Price: 5.3654\n"
          ]
        }
      ]
    },
    {
      "cell_type": "code",
      "source": [
        "import numpy as np\n",
        "\n",
        "def binomial_tree_option(S, X, T, r, sigma, N, option_type='call'):\n",
        "    \"\"\"\n",
        "    Calculate European option price using binomial tree model\n",
        "\n",
        "    Parameters:\n",
        "    S (float): Current stock price\n",
        "    X (float): Strike price\n",
        "    T (float): Time to expiration (years)\n",
        "    r (float): Risk-free interest rate\n",
        "    sigma (float): Volatility of returns\n",
        "    N (int): Number of time steps\n",
        "    option_type (str): 'call' or 'put' (default: 'call')\n",
        "\n",
        "    Returns:\n",
        "    float: Option price\n",
        "    \"\"\"\n",
        "    delta_t = T / N\n",
        "    u = np.exp(sigma * np.sqrt(delta_t))\n",
        "    d = 1 / u\n",
        "    p = (np.exp(r * delta_t) - d) / (u - d)\n",
        "\n",
        "    # Initialize asset prices at maturity\n",
        "    prices = np.zeros(N + 1)\n",
        "    option_values = np.zeros(N + 1)\n",
        "\n",
        "    for i in range(N + 1):\n",
        "        prices[i] = S * (u ** (N - i)) * (d ** i)\n",
        "\n",
        "    # Calculate option values at maturity\n",
        "    for i in range(N + 1):\n",
        "        if option_type == 'call':\n",
        "            option_values[i] = max(0, prices[i] - X)\n",
        "        elif option_type == 'put':\n",
        "            option_values[i] = max(0, X - prices[i])\n",
        "\n",
        "    # Step back through the tree\n",
        "    for j in range(N - 1, -1, -1):\n",
        "        prev_option_values = option_values.copy()\n",
        "        for i in range(j + 1):\n",
        "            option_values[i] = np.exp(-r * delta_t) * (\n",
        "                p * prev_option_values[i] + (1 - p) * prev_option_values[i + 1]\n",
        "            )\n",
        "\n",
        "    return option_values[0]\n",
        "\n",
        "# Example usage\n",
        "S = 200   # Current stock price\n",
        "X = 205   # Strike price\n",
        "T = 2     # Time to expiration in years\n",
        "r = 0.05  # Risk-free interest rate\n",
        "sigma = 0.3  # Volatility\n",
        "N = 3     # Number of steps\n",
        "\n",
        "call_price = binomial_tree_option(S, X, T, r, sigma, N, 'call')\n",
        "put_price = binomial_tree_option(S, X, T, r, sigma, N, 'put')\n",
        "\n",
        "print(f\"Call option price: ${call_price:.2f}\")\n",
        "print(f\"Put option price: ${put_price:.2f}\")\n"
      ],
      "metadata": {
        "colab": {
          "base_uri": "https://localhost:8080/"
        },
        "id": "Ywy3eET59Y4K",
        "outputId": "3fffb8e0-9dd5-4b29-dad5-84b87260f42e"
      },
      "execution_count": null,
      "outputs": [
        {
          "output_type": "stream",
          "name": "stdout",
          "text": [
            "Call option price: $42.48\n",
            "Put option price: $27.97\n"
          ]
        }
      ]
    },
    {
      "cell_type": "code",
      "source": [
        "import numpy as np\n",
        "import scipy.stats as si\n",
        "\n",
        "def black_scholes(S, X, T, r, sigma):\n",
        "    \"\"\"\n",
        "    Calculate Black-Scholes option prices for both call and put options.\n",
        "\n",
        "    Parameters:\n",
        "    S (float) : Current stock price\n",
        "    X (float) : Strike price\n",
        "    T (float) : Time to expiration (in years)\n",
        "    r (float) : Risk-free interest rate\n",
        "    sigma (float) : Volatility of returns\n",
        "\n",
        "    Returns:\n",
        "    tuple: (call_price, put_price)\n",
        "    \"\"\"\n",
        "    # Calculate d1 and d2 parameters\n",
        "    d1 = (np.log(S / X) + (r + 0.5 * sigma ** 2) * T) / (sigma * np.sqrt(T))\n",
        "    d2 = d1 - sigma * np.sqrt(T)\n",
        "\n",
        "    # Calculate call option price\n",
        "    call_price = (S * si.norm.cdf(d1, 0, 1)) - (X * np.exp(-r * T) * si.norm.cdf(d2, 0, 1))\n",
        "\n",
        "    # Calculate put option price using put-call parity\n",
        "    put_price = (X * np.exp(-r * T) * si.norm.cdf(-d2, 0, 1)) - (S * si.norm.cdf(-d1, 0, 1))\n",
        "\n",
        "    return call_price, put_price\n",
        "\n",
        "# Substituted values\n",
        "S = 200    # Current stock price\n",
        "X = 205    # Strike price\n",
        "T = 2      # Time to expiration in years\n",
        "r = 0.05   # Risk-free interest rate\n",
        "sigma = 0.3  # Volatility of the stock\n",
        "\n",
        "# Calculate both call and put option prices\n",
        "call_price, put_price = black_scholes(S, X, T, r, sigma)\n",
        "\n",
        "print(f\"The price of the European call option is: ${call_price:.2f}\")\n",
        "print(f\"The price of the European put option is: ${put_price:.2f}\")\n"
      ],
      "metadata": {
        "colab": {
          "base_uri": "https://localhost:8080/"
        },
        "id": "Us8b9gEC9ulv",
        "outputId": "1b3b3c4b-d3fe-4cfa-ff08-17fc82b0e968"
      },
      "execution_count": null,
      "outputs": [
        {
          "output_type": "stream",
          "name": "stdout",
          "text": [
            "The price of the European call option is: $40.14\n",
            "The price of the European put option is: $25.63\n"
          ]
        }
      ]
    }
  ]
}